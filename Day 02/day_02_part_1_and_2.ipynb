{
 "cells": [
  {
   "cell_type": "markdown",
   "metadata": {},
   "source": [
    "### --- Day 2: 1202 Program Alarm ---\n",
    "On the way to your gravity assist around the Moon, your ship computer beeps angrily about a \"1202 program alarm\". On the radio, an Elf is already explaining how to handle the situation: \"Don't worry, that's perfectly norma--\" The ship computer bursts into flames.\n",
    "\n",
    "You notify the Elves that the computer's magic smoke seems to have escaped. \"That computer ran Intcode programs like the gravity assist program it was working on; surely there are enough spare parts up there to build a new Intcode computer!\"\n",
    "\n",
    "An Intcode program is a list of integers separated by commas (like 1,0,0,3,99). To run one, start by looking at the first integer (called position 0). Here, you will find an opcode - either 1, 2, or 99. The opcode indicates what to do; for example, 99 means that the program is finished and should immediately halt. Encountering an unknown opcode means something went wrong.\n",
    "\n",
    "Opcode 1 adds together numbers read from two positions and stores the result in a third position. The three integers immediately after the opcode tell you these three positions - the first two indicate the positions from which you should read the input values, and the third indicates the position at which the output should be stored.\n",
    "\n",
    "For example, if your Intcode computer encounters 1,10,20,30, it should read the values at positions 10 and 20, add those values, and then overwrite the value at position 30 with their sum.\n",
    "\n",
    "Opcode 2 works exactly like opcode 1, except it multiplies the two inputs instead of adding them. Again, the three integers after the opcode indicate where the inputs and outputs are, not their values.\n",
    "\n",
    "Once you're done processing an opcode, move to the next one by stepping forward 4 positions.\n",
    "\n",
    "For example, suppose you have the following program:\n",
    "\n",
    "1,9,10,3,2,3,11,0,99,30,40,50\n",
    "For the purposes of illustration, here is the same program split into multiple lines:\n",
    "\n",
    "1,9,10,3,\n",
    "2,3,11,0,\n",
    "99,\n",
    "30,40,50\n",
    "The first four integers, 1,9,10,3, are at positions 0, 1, 2, and 3. Together, they represent the first opcode (1, addition), the positions of the two inputs (9 and 10), and the position of the output (3). To handle this opcode, you first need to get the values at the input positions: position 9 contains 30, and position 10 contains 40. Add these numbers together to get 70. Then, store this value at the output position; here, the output position (3) is at position 3, so it overwrites itself. Afterward, the program looks like this:\n",
    "\n",
    "1,9,10,70,\n",
    "2,3,11,0,\n",
    "99,\n",
    "30,40,50\n",
    "Step forward 4 positions to reach the next opcode, 2. This opcode works just like the previous, but it multiplies instead of adding. The inputs are at positions 3 and 11; these positions contain 70 and 50 respectively. Multiplying these produces 3500; this is stored at position 0:\n",
    "\n",
    "3500,9,10,70,\n",
    "2,3,11,0,\n",
    "99,\n",
    "30,40,50\n",
    "Stepping forward 4 more positions arrives at opcode 99, halting the program.\n",
    "\n",
    "Here are the initial and final states of a few more small programs:\n",
    "\n",
    "1,0,0,0,99 becomes 2,0,0,0,99 (1 + 1 = 2).\n",
    "2,3,0,3,99 becomes 2,3,0,6,99 (3 * 2 = 6).\n",
    "2,4,4,5,99,0 becomes 2,4,4,5,99,9801 (99 * 99 = 9801).\n",
    "1,1,1,4,99,5,6,0,99 becomes 30,1,1,4,2,5,6,0,99.\n",
    "Once you have a working computer, the first step is to restore the gravity assist program (your puzzle input) to the \"1202 program alarm\" state it had just before the last computer caught fire. To do this, before running the program, replace position 1 with the value 12 and replace position 2 with the value 2. What value is left at position 0 after the program halts?"
   ]
  },
  {
   "cell_type": "code",
   "execution_count": 1,
   "metadata": {},
   "outputs": [],
   "source": [
    "import itertools\n",
    "\n",
    "def op_one(value1, value2, write):\n",
    "    output = intcode[value1] + intcode[value2]\n",
    "    intcode[write] = output\n",
    "    \n",
    "    return True\n",
    "    \n",
    "def op_two(value1, value2, write):\n",
    "    output = intcode[value1] * intcode[value2]\n",
    "    intcode[write] = output\n",
    "    \n",
    "    return True\n",
    "    \n",
    "def halt(value1, value2, write):\n",
    "    print('halt program')\n",
    "    \n",
    "    return False\n",
    "    \n",
    "\n",
    "opcode = {1:op_one,2:op_two,99:halt}"
   ]
  },
  {
   "cell_type": "code",
   "execution_count": 2,
   "metadata": {},
   "outputs": [
    {
     "data": {
      "text/plain": [
       "[3500, 9, 10, 70, 2, 3, 11, 0, 99, 30, 40, 50]"
      ]
     },
     "execution_count": 2,
     "metadata": {},
     "output_type": "execute_result"
    }
   ],
   "source": [
    "# Example code\n",
    "intcode = [1,9,10,3,2,3,11,0,99,30,40,50]\n",
    "#intcode = [2,3,0,3,99]\n",
    "#intcode = [2,4,4,5,99,0]\n",
    "#intcode = [1,1,1,4,99,5,6,0,99]\n",
    "\n",
    "for position in itertools.count(0,4):\n",
    "    try:\n",
    "        if intcode[position]==99:\n",
    "            break\n",
    "        opcode[intcode[position]](intcode[position+1],intcode[position+2],intcode[position+3])\n",
    "\n",
    "        \n",
    "    except IndexError:\n",
    "        print('end')\n",
    "        result = False\n",
    "        break\n",
    "    \n",
    "intcode\n"
   ]
  },
  {
   "cell_type": "code",
   "execution_count": 3,
   "metadata": {},
   "outputs": [
    {
     "name": "stdout",
     "output_type": "stream",
     "text": [
      "[1, 12, 2, 3, 1, 1, 2, 3, 1, 3, 4, 3, 1, 5, 0, 3, 2, 1, 6, 19, 2, 19, 6, 23, 1, 23, 5, 27, 1, 9, 27, 31, 1, 31, 10, 35, 2, 35, 9, 39, 1, 5, 39, 43, 2, 43, 9, 47, 1, 5, 47, 51, 2, 51, 13, 55, 1, 55, 10, 59, 1, 59, 10, 63, 2, 9, 63, 67, 1, 67, 5, 71, 2, 13, 71, 75, 1, 75, 10, 79, 1, 79, 6, 83, 2, 13, 83, 87, 1, 87, 6, 91, 1, 6, 91, 95, 1, 10, 95, 99, 2, 99, 6, 103, 1, 103, 5, 107, 2, 6, 107, 111, 1, 10, 111, 115, 1, 115, 5, 119, 2, 6, 119, 123, 1, 123, 5, 127, 2, 127, 6, 131, 1, 131, 5, 135, 1, 2, 135, 139, 1, 139, 13, 0, 99, 2, 0, 14, 0]\n",
      "halted\n"
     ]
    },
    {
     "data": {
      "text/plain": [
       "3058646"
      ]
     },
     "execution_count": 3,
     "metadata": {},
     "output_type": "execute_result"
    }
   ],
   "source": [
    "with open ('input.txt', 'r') as f:\n",
    "    raw = f.read()\n",
    "raw_strings = raw.split(',')\n",
    "intcode = list(map(int,raw_strings))\n",
    "\n",
    "# Given in problem\n",
    "intcode[1] = 12\n",
    "intcode[2] = 2\n",
    "print(intcode)\n",
    "    \n",
    "for position in itertools.count(0,4):\n",
    "    try:\n",
    "        if intcode[position]==99:\n",
    "            print('halted')\n",
    "            break\n",
    "        opcode[intcode[position]](intcode[position+1],intcode[position+2],intcode[position+3])\n",
    "\n",
    "        \n",
    "    except IndexError:\n",
    "        print('end')\n",
    "        result = False\n",
    "        break\n",
    "    \n",
    "intcode[0]"
   ]
  },
  {
   "cell_type": "markdown",
   "metadata": {},
   "source": [
    "--- Part Two ---\n",
    "\"Good, the new computer seems to be working correctly! Keep it nearby during this mission - you'll probably use it again. Real Intcode computers support many more features than your new one, but we'll let you know what they are as you need them.\"\n",
    "\n",
    "\"However, your current priority should be to complete your gravity assist around the Moon. For this mission to succeed, we should settle on some terminology for the parts you've already built.\"\n",
    "\n",
    "Intcode programs are given as a list of integers; these values are used as the initial state for the computer's memory. When you run an Intcode program, make sure to start by initializing memory to the program's values. A position in memory is called an address (for example, the first value in memory is at \"address 0\").\n",
    "\n",
    "Opcodes (like 1, 2, or 99) mark the beginning of an instruction. The values used immediately after an opcode, if any, are called the instruction's parameters. For example, in the instruction 1,2,3,4, 1 is the opcode; 2, 3, and 4 are the parameters. The instruction 99 contains only an opcode and has no parameters.\n",
    "\n",
    "The address of the current instruction is called the instruction pointer; it starts at 0. After an instruction finishes, the instruction pointer increases by the number of values in the instruction; until you add more instructions to the computer, this is always 4 (1 opcode + 3 parameters) for the add and multiply instructions. (The halt instruction would increase the instruction pointer by 1, but it halts the program instead.)\n",
    "\n",
    "\"With terminology out of the way, we're ready to proceed. To complete the gravity assist, you need to determine what pair of inputs produces the output 19690720.\"\n",
    "\n",
    "The inputs should still be provided to the program by replacing the values at addresses 1 and 2, just like before. In this program, the value placed in address 1 is called the noun, and the value placed in address 2 is called the verb. Each of the two input values will be between 0 and 99, inclusive.\n",
    "\n",
    "Once the program has halted, its output is available at address 0, also just like before. Each time you try a pair of inputs, make sure you first reset the computer's memory to the values in the program (your puzzle input) - in other words, don't reuse memory from a previous attempt.\n",
    "\n",
    "Find the input noun and verb that cause the program to produce the output 19690720. What is 100 * noun + verb? (For example, if noun=12 and verb=2, the answer would be 1202.)"
   ]
  },
  {
   "cell_type": "code",
   "execution_count": 4,
   "metadata": {},
   "outputs": [
    {
     "name": "stdout",
     "output_type": "stream",
     "text": [
      "Answer is 89 and 76 for 8976\n",
      "Answer is 89 and 76 for 8976\n"
     ]
    }
   ],
   "source": [
    "\n",
    "\n",
    "# Given in problem\n",
    "noun = 12\n",
    "verb = 2\n",
    "\n",
    "# for noun,verb in itertools.combinations_with_replacement(range(100),2):\n",
    "\n",
    "for noun in range(100):\n",
    "    for verb in range(100):\n",
    "    \n",
    "        with open ('input.txt', 'r') as f:\n",
    "            raw = f.read()\n",
    "        raw_strings = raw.split(',')\n",
    "        intcode = list(map(int,raw_strings))\n",
    "\n",
    "        intcode[1] = noun\n",
    "        intcode[2] = verb\n",
    "        \n",
    "\n",
    "        for position in itertools.count(0,4):\n",
    "            try:\n",
    "                if intcode[position]==99:\n",
    "                    \n",
    "                    if intcode[0] == 19690720:\n",
    "                        print(f'Answer is {noun} and {verb} for {(100 * noun) + verb}')\n",
    "\n",
    "                    break\n",
    "                opcode[intcode[position]](intcode[position+1],intcode[position+2],intcode[position+3])\n",
    "\n",
    "                if intcode[0] == 19690720:\n",
    "                        print(f'Answer is {noun} and {verb} for {(100 * noun) + verb}')\n",
    "\n",
    "            except IndexError:\n",
    "                print('end')\n",
    "                \n",
    "                \n",
    "\n",
    "            #print(intcode[0])\n",
    "            if intcode[0] == 19690720:\n",
    "                print(f'Answer is {noun} and {verb} for {(100 * noun) + verb}')\n",
    "                break"
   ]
  }
 ],
 "metadata": {
  "kernelspec": {
   "display_name": "Python 3",
   "language": "python",
   "name": "python3"
  },
  "language_info": {
   "codemirror_mode": {
    "name": "ipython",
    "version": 3
   },
   "file_extension": ".py",
   "mimetype": "text/x-python",
   "name": "python",
   "nbconvert_exporter": "python",
   "pygments_lexer": "ipython3",
   "version": "3.6.5"
  }
 },
 "nbformat": 4,
 "nbformat_minor": 2
}
