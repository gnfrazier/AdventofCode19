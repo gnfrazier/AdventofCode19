{
 "cells": [
  {
   "cell_type": "markdown",
   "metadata": {},
   "source": [
    "The gravity assist was successful, and you're well on your way to the Venus refuelling station. During the rush back on Earth, the fuel management system wasn't completely installed, so that's next on the priority list.\n",
    "\n",
    "Opening the front panel reveals a jumble of wires. Specifically, two wires are connected to a central port and extend outward on a grid. You trace the path each wire takes as it leaves the central port, one wire per line of text (your puzzle input).\n",
    "\n",
    "The wires twist and turn, but the two wires occasionally cross paths. To fix the circuit, you need to find the intersection point closest to the central port. Because the wires are on a grid, use the Manhattan distance for this measurement. While the wires do technically cross right at the central port where they both start, this point does not count, nor does a wire count as crossing with itself.\n",
    "\n",
    "For example, if the first wire's path is R8,U5,L5,D3, then starting from the central port (o), it goes right 8, up 5, left 5, and finally down 3:\n",
    "\n",
    "...........\n",
    "...........\n",
    "...........\n",
    "....+----+.\n",
    "....|....|.\n",
    "....|....|.\n",
    "....|....|.\n",
    ".........|.\n",
    ".o-------+.\n",
    "...........\n",
    "Then, if the second wire's path is U7,R6,D4,L4, it goes up 7, right 6, down 4, and left 4:\n",
    "\n",
    "...........\n",
    ".+-----+...\n",
    ".|.....|...\n",
    ".|..+--X-+.\n",
    ".|..|..|.|.\n",
    ".|.-X--+.|.\n",
    ".|..|....|.\n",
    ".|.......|.\n",
    ".o-------+.\n",
    "...........\n",
    "These wires cross at two locations (marked X), but the lower-left one is closer to the central port: its distance is 3 + 3 = 6.\n",
    "\n",
    "Here are a few more examples:\n",
    "\n",
    "R75,D30,R83,U83,L12,D49,R71,U7,L72\n",
    "U62,R66,U55,R34,D71,R55,D58,R83 = distance 159\n",
    "\n",
    "R98,U47,R26,D63,R33,U87,L62,D20,R33,U53,R51\n",
    "U98,R91,D20,R16,D67,R40,U7,R15,U6,R7 = distance 135\n",
    "\n",
    "\n",
    "What is the Manhattan distance from the central port to the closest intersection?"
   ]
  },
  {
   "cell_type": "code",
   "execution_count": 18,
   "metadata": {},
   "outputs": [],
   "source": [
    "# Examples\n",
    "#path1 = 'R8,U5,L5,D3'\n",
    "#path2 = 'U7,R6,D4,L4'\n",
    "\n",
    "path1 = 'R75,D30,R83,U83,L12,D49,R71,U7,L72'\n",
    "path2 = 'U62,R66,U55,R34,D71,R55,D58,R83'\n",
    "\n",
    "\n",
    "\n",
    "#path1 = 'R98,U47,R26,D63,R33,U87,L62,D20,R33,U53,R51'\n",
    "#path2 = 'U98,R91,D20,R16,D67,R40,U7,R15,U6,R7'\n",
    "\n",
    "route = {1:[(0,0)],2:[(0,0)]}\n",
    "path1 = path1.split(',')\n",
    "path2 = path2.split(',')"
   ]
  },
  {
   "cell_type": "code",
   "execution_count": 21,
   "metadata": {},
   "outputs": [],
   "source": [
    "# Puzzle input\n",
    "\n",
    "paths = []\n",
    "with open('input.txt') as f:\n",
    "    for line in f:\n",
    "        paths.append(line)\n",
    "\n",
    "path1 = paths[0].split(',')\n",
    "path2 = paths[1].split(',')"
   ]
  },
  {
   "cell_type": "code",
   "execution_count": 6,
   "metadata": {},
   "outputs": [],
   "source": [
    "\n",
    "def left(value,key):\n",
    "    \n",
    "    for i in range(value):\n",
    "        x,y = route[key][-1]\n",
    "\n",
    "        x1 = x-1\n",
    "\n",
    "        route[key].append((x1,y))\n",
    "    \n",
    "def right(value,key):\n",
    "    \n",
    "    for i in range(value):\n",
    "        x,y = route[key][-1]\n",
    "\n",
    "        x1 = x+1\n",
    "\n",
    "        route[key].append((x1,y))\n",
    "    \n",
    "def up(value,key):\n",
    "    \n",
    "    for i in range(value):\n",
    "        x,y = route[key][-1]\n",
    "\n",
    "        y1 = y+1\n",
    "\n",
    "        route[key].append((x,y1))\n",
    "    \n",
    "def down(value,key):\n",
    "    \n",
    "    for i in range(value):\n",
    "        x,y = route[key][-1]\n",
    "\n",
    "        y1 = y-1\n",
    "\n",
    "        route[key].append((x,y1))\n",
    "\n",
    "direction = {\n",
    "            'R':right,\n",
    "            'L':left,\n",
    "            'U':up,\n",
    "            'D':down,\n",
    "}"
   ]
  },
  {
   "cell_type": "code",
   "execution_count": 22,
   "metadata": {},
   "outputs": [
    {
     "name": "stdout",
     "output_type": "stream",
     "text": [
      "865\n"
     ]
    }
   ],
   "source": [
    "route = {1:[(0,0)],2:[(0,0)]}\n",
    "for step in path1:\n",
    "    direction[step[0]](int(step[1:]),1)\n",
    "    \n",
    "for step in path2:\n",
    "    direction[step[0]](int(step[1:]),2)\n",
    "\n",
    "\n",
    "crosses = set(route[1]).intersection(set(route[2]))\n",
    "crosses\n",
    "\n",
    "distances = []\n",
    "for x,y in crosses:\n",
    "    distances.append(abs(x)+abs(y))\n",
    "distances.remove(0)\n",
    "print(min(distances))"
   ]
  },
  {
   "cell_type": "markdown",
   "metadata": {},
   "source": [
    "--- Part Two ---\n",
    "It turns out that this circuit is very timing-sensitive; you actually need to minimize the signal delay.\n",
    "\n",
    "To do this, calculate the number of steps each wire takes to reach each intersection; choose the intersection where the sum of both wires' steps is lowest. If a wire visits a position on the grid multiple times, use the steps value from the first time it visits that position when calculating the total value of a specific intersection.\n",
    "\n",
    "The number of steps a wire takes is the total number of grid squares the wire has entered to get to that location, including the intersection being considered. Again consider the example from above:\n",
    "\n",
    "...........\n",
    ".+-----+...\n",
    ".|.....|...\n",
    ".|..+--X-+.\n",
    ".|..|..|.|.\n",
    ".|.-X--+.|.\n",
    ".|..|....|.\n",
    ".|.......|.\n",
    ".o-------+.\n",
    "...........\n",
    "In the above example, the intersection closest to the central port is reached after 8+5+5+2 = 20 steps by the first wire and 7+6+4+3 = 20 steps by the second wire for a total of 20+20 = 40 steps.\n",
    "\n",
    "However, the top-right intersection is better: the first wire takes only 8+5+2 = 15 and the second wire takes only 7+6+2 = 15, a total of 15+15 = 30 steps.\n",
    "\n",
    "Here are the best steps for the extra examples from above:\n",
    "\n",
    "R75,D30,R83,U83,L12,D49,R71,U7,L72\n",
    "U62,R66,U55,R34,D71,R55,D58,R83 = 610 steps\n",
    "R98,U47,R26,D63,R33,U87,L62,D20,R33,U53,R51\n",
    "U98,R91,D20,R16,D67,R40,U7,R15,U6,R7 = 410 steps\n",
    "What is the fewest combined steps the wires must take to reach an intersection?"
   ]
  },
  {
   "cell_type": "code",
   "execution_count": 11,
   "metadata": {},
   "outputs": [
    {
     "data": {
      "text/plain": [
       "{(0, 0), (107, 47), (107, 51), (107, 71), (124, 11), (157, 18)}"
      ]
     },
     "execution_count": 11,
     "metadata": {},
     "output_type": "execute_result"
    }
   ],
   "source": [
    "crosses"
   ]
  },
  {
   "cell_type": "code",
   "execution_count": 23,
   "metadata": {},
   "outputs": [
    {
     "data": {
      "text/plain": [
       "35038"
      ]
     },
     "execution_count": 23,
     "metadata": {},
     "output_type": "execute_result"
    }
   ],
   "source": [
    "cross_steps = []\n",
    "for cross in crosses:\n",
    "    a = route[1].index(cross)\n",
    "    b = route[2].index(cross)\n",
    "    \n",
    "    cross_steps.append(a + b)\n",
    "cross_steps.remove(0)\n",
    "min(cross_steps)   "
   ]
  }
 ],
 "metadata": {
  "kernelspec": {
   "display_name": "Python 3",
   "language": "python",
   "name": "python3"
  },
  "language_info": {
   "codemirror_mode": {
    "name": "ipython",
    "version": 3
   },
   "file_extension": ".py",
   "mimetype": "text/x-python",
   "name": "python",
   "nbconvert_exporter": "python",
   "pygments_lexer": "ipython3",
   "version": "3.6.5"
  }
 },
 "nbformat": 4,
 "nbformat_minor": 2
}
